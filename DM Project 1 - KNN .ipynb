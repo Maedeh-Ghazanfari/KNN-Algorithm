{
 "cells": [
  {
   "cell_type": "markdown",
   "id": "a558c26a",
   "metadata": {},
   "source": [
    "# Importing libraries"
   ]
  },
  {
   "cell_type": "code",
   "execution_count": 2,
   "id": "45fcd846",
   "metadata": {},
   "outputs": [],
   "source": [
    "import numpy as np\n",
    "import pandas as pd"
   ]
  },
  {
   "cell_type": "markdown",
   "id": "c68a2d5f",
   "metadata": {},
   "source": [
    "# Importing dataset and creating dataframe"
   ]
  },
  {
   "cell_type": "code",
   "execution_count": 3,
   "id": "a88e14cd",
   "metadata": {},
   "outputs": [],
   "source": [
    "original_df = pd.read_csv(\"B:\\DM TA\\Rice_Cammeo_Osmancik.csv\")\n",
    "df = original_df"
   ]
  },
  {
   "cell_type": "markdown",
   "id": "a04d96e9",
   "metadata": {},
   "source": [
    "# Preprocessing"
   ]
  },
  {
   "cell_type": "markdown",
   "id": "fcef1c72",
   "metadata": {},
   "source": [
    "## EDA:"
   ]
  },
  {
   "cell_type": "markdown",
   "id": "5885146a",
   "metadata": {},
   "source": [
    "### Columns types:"
   ]
  },
  {
   "cell_type": "code",
   "execution_count": 4,
   "id": "b79baf71",
   "metadata": {},
   "outputs": [
    {
     "data": {
      "text/plain": [
       "Area                  object\n",
       "Perimeter            float64\n",
       "Major_Axis_Length    float64\n",
       "Minor_Axis_Length     object\n",
       "Eccentricity         float64\n",
       "Convex_Area           object\n",
       "Extent               float64\n",
       "Class                 object\n",
       "dtype: object"
      ]
     },
     "execution_count": 4,
     "metadata": {},
     "output_type": "execute_result"
    }
   ],
   "source": [
    "df.dtypes"
   ]
  },
  {
   "cell_type": "markdown",
   "id": "f4d7c937",
   "metadata": {},
   "source": [
    "### first 10 rows:"
   ]
  },
  {
   "cell_type": "code",
   "execution_count": 5,
   "id": "f0aded99",
   "metadata": {},
   "outputs": [
    {
     "data": {
      "text/html": [
       "<div>\n",
       "<style scoped>\n",
       "    .dataframe tbody tr th:only-of-type {\n",
       "        vertical-align: middle;\n",
       "    }\n",
       "\n",
       "    .dataframe tbody tr th {\n",
       "        vertical-align: top;\n",
       "    }\n",
       "\n",
       "    .dataframe thead th {\n",
       "        text-align: right;\n",
       "    }\n",
       "</style>\n",
       "<table border=\"1\" class=\"dataframe\">\n",
       "  <thead>\n",
       "    <tr style=\"text-align: right;\">\n",
       "      <th></th>\n",
       "      <th>Area</th>\n",
       "      <th>Perimeter</th>\n",
       "      <th>Major_Axis_Length</th>\n",
       "      <th>Minor_Axis_Length</th>\n",
       "      <th>Eccentricity</th>\n",
       "      <th>Convex_Area</th>\n",
       "      <th>Extent</th>\n",
       "      <th>Class</th>\n",
       "    </tr>\n",
       "  </thead>\n",
       "  <tbody>\n",
       "    <tr>\n",
       "      <th>0</th>\n",
       "      <td>7551</td>\n",
       "      <td>369.063995</td>\n",
       "      <td>163.408829</td>\n",
       "      <td>59.53240585</td>\n",
       "      <td>0.931275</td>\n",
       "      <td>7723</td>\n",
       "      <td>0.756462</td>\n",
       "      <td>Osmancik</td>\n",
       "    </tr>\n",
       "    <tr>\n",
       "      <th>1</th>\n",
       "      <td>8546</td>\n",
       "      <td>388.580994</td>\n",
       "      <td>172.519959</td>\n",
       "      <td>63.34475327</td>\n",
       "      <td>0.930152</td>\n",
       "      <td>8685</td>\n",
       "      <td>0.735456</td>\n",
       "      <td>Osmancik</td>\n",
       "    </tr>\n",
       "    <tr>\n",
       "      <th>2</th>\n",
       "      <td>7833</td>\n",
       "      <td>373.157013</td>\n",
       "      <td>162.516434</td>\n",
       "      <td>63.56500244</td>\n",
       "      <td>0.920336</td>\n",
       "      <td>8015</td>\n",
       "      <td>0.769752</td>\n",
       "      <td>Osmancik</td>\n",
       "    </tr>\n",
       "    <tr>\n",
       "      <th>3</th>\n",
       "      <td>9292</td>\n",
       "      <td>414.118988</td>\n",
       "      <td>183.639710</td>\n",
       "      <td>64.87107086</td>\n",
       "      <td>0.935528</td>\n",
       "      <td>9442</td>\n",
       "      <td>0.501078</td>\n",
       "      <td>Osmancik</td>\n",
       "    </tr>\n",
       "    <tr>\n",
       "      <th>4</th>\n",
       "      <td>7943</td>\n",
       "      <td>362.673004</td>\n",
       "      <td>154.886322</td>\n",
       "      <td>65.93088531</td>\n",
       "      <td>0.904877</td>\n",
       "      <td>8080</td>\n",
       "      <td>0.608659</td>\n",
       "      <td>Osmancik</td>\n",
       "    </tr>\n",
       "    <tr>\n",
       "      <th>5</th>\n",
       "      <td>9414</td>\n",
       "      <td>407.825012</td>\n",
       "      <td>179.545883</td>\n",
       "      <td>66.91815948</td>\n",
       "      <td>0.927949</td>\n",
       "      <td>9583</td>\n",
       "      <td>0.810434</td>\n",
       "      <td>Osmancik</td>\n",
       "    </tr>\n",
       "    <tr>\n",
       "      <th>6</th>\n",
       "      <td>9908</td>\n",
       "      <td>432.769012</td>\n",
       "      <td>188.187683</td>\n",
       "      <td>67.69534302</td>\n",
       "      <td>0.933059</td>\n",
       "      <td>10205</td>\n",
       "      <td>0.611680</td>\n",
       "      <td>Cammeo</td>\n",
       "    </tr>\n",
       "    <tr>\n",
       "      <th>7</th>\n",
       "      <td>8709</td>\n",
       "      <td>383.527008</td>\n",
       "      <td>164.193893</td>\n",
       "      <td>67.93288422</td>\n",
       "      <td>0.910397</td>\n",
       "      <td>8873</td>\n",
       "      <td>0.767989</td>\n",
       "      <td>Osmancik</td>\n",
       "    </tr>\n",
       "    <tr>\n",
       "      <th>8</th>\n",
       "      <td>9426</td>\n",
       "      <td>402.709992</td>\n",
       "      <td>175.974289</td>\n",
       "      <td>68.60753632</td>\n",
       "      <td>0.920869</td>\n",
       "      <td>9578</td>\n",
       "      <td>0.577432</td>\n",
       "      <td>Osmancik</td>\n",
       "    </tr>\n",
       "    <tr>\n",
       "      <th>9</th>\n",
       "      <td>9273</td>\n",
       "      <td>406.402008</td>\n",
       "      <td>173.414093</td>\n",
       "      <td>68.80253601</td>\n",
       "      <td>0.917925</td>\n",
       "      <td>9445</td>\n",
       "      <td>0.530098</td>\n",
       "      <td>Osmancik</td>\n",
       "    </tr>\n",
       "  </tbody>\n",
       "</table>\n",
       "</div>"
      ],
      "text/plain": [
       "   Area   Perimeter  Major_Axis_Length Minor_Axis_Length  Eccentricity  \\\n",
       "0  7551  369.063995         163.408829       59.53240585      0.931275   \n",
       "1  8546  388.580994         172.519959       63.34475327      0.930152   \n",
       "2  7833  373.157013         162.516434       63.56500244      0.920336   \n",
       "3  9292  414.118988         183.639710       64.87107086      0.935528   \n",
       "4  7943  362.673004         154.886322       65.93088531      0.904877   \n",
       "5  9414  407.825012         179.545883       66.91815948      0.927949   \n",
       "6  9908  432.769012         188.187683       67.69534302      0.933059   \n",
       "7  8709  383.527008         164.193893       67.93288422      0.910397   \n",
       "8  9426  402.709992         175.974289       68.60753632      0.920869   \n",
       "9  9273  406.402008         173.414093       68.80253601      0.917925   \n",
       "\n",
       "  Convex_Area    Extent     Class  \n",
       "0        7723  0.756462  Osmancik  \n",
       "1        8685  0.735456  Osmancik  \n",
       "2        8015  0.769752  Osmancik  \n",
       "3        9442  0.501078  Osmancik  \n",
       "4        8080  0.608659  Osmancik  \n",
       "5        9583  0.810434  Osmancik  \n",
       "6       10205  0.611680    Cammeo  \n",
       "7        8873  0.767989  Osmancik  \n",
       "8        9578  0.577432  Osmancik  \n",
       "9        9445  0.530098  Osmancik  "
      ]
     },
     "execution_count": 5,
     "metadata": {},
     "output_type": "execute_result"
    }
   ],
   "source": [
    "df.head(10)"
   ]
  },
  {
   "cell_type": "markdown",
   "id": "f8ad2137",
   "metadata": {},
   "source": [
    "### last 10 rows:"
   ]
  },
  {
   "cell_type": "code",
   "execution_count": 6,
   "id": "4bbd562f",
   "metadata": {},
   "outputs": [
    {
     "data": {
      "text/html": [
       "<div>\n",
       "<style scoped>\n",
       "    .dataframe tbody tr th:only-of-type {\n",
       "        vertical-align: middle;\n",
       "    }\n",
       "\n",
       "    .dataframe tbody tr th {\n",
       "        vertical-align: top;\n",
       "    }\n",
       "\n",
       "    .dataframe thead th {\n",
       "        text-align: right;\n",
       "    }\n",
       "</style>\n",
       "<table border=\"1\" class=\"dataframe\">\n",
       "  <thead>\n",
       "    <tr style=\"text-align: right;\">\n",
       "      <th></th>\n",
       "      <th>Area</th>\n",
       "      <th>Perimeter</th>\n",
       "      <th>Major_Axis_Length</th>\n",
       "      <th>Minor_Axis_Length</th>\n",
       "      <th>Eccentricity</th>\n",
       "      <th>Convex_Area</th>\n",
       "      <th>Extent</th>\n",
       "      <th>Class</th>\n",
       "    </tr>\n",
       "  </thead>\n",
       "  <tbody>\n",
       "    <tr>\n",
       "      <th>3817</th>\n",
       "      <td>9751</td>\n",
       "      <td>412.597992</td>\n",
       "      <td>175.450638</td>\n",
       "      <td>71.44275665</td>\n",
       "      <td>0.913341</td>\n",
       "      <td>10034</td>\n",
       "      <td>0.714359</td>\n",
       "      <td>Osmancik</td>\n",
       "    </tr>\n",
       "    <tr>\n",
       "      <th>3818</th>\n",
       "      <td>9802</td>\n",
       "      <td>412.368988</td>\n",
       "      <td>176.165573</td>\n",
       "      <td>71.48280334</td>\n",
       "      <td>0.913975</td>\n",
       "      <td>9991</td>\n",
       "      <td>0.566950</td>\n",
       "      <td>Osmancik</td>\n",
       "    </tr>\n",
       "    <tr>\n",
       "      <th>3819</th>\n",
       "      <td>8501</td>\n",
       "      <td>371.024994</td>\n",
       "      <td>153.896255</td>\n",
       "      <td>71.51190948</td>\n",
       "      <td>0.885481</td>\n",
       "      <td>8738</td>\n",
       "      <td>0.639846</td>\n",
       "      <td>Osmancik</td>\n",
       "    </tr>\n",
       "    <tr>\n",
       "      <th>3820</th>\n",
       "      <td>8850</td>\n",
       "      <td>381.433990</td>\n",
       "      <td>159.251205</td>\n",
       "      <td>71.76094818</td>\n",
       "      <td>0.892718</td>\n",
       "      <td>9063</td>\n",
       "      <td>0.572519</td>\n",
       "      <td>Osmancik</td>\n",
       "    </tr>\n",
       "    <tr>\n",
       "      <th>3821</th>\n",
       "      <td>10713</td>\n",
       "      <td>443.403992</td>\n",
       "      <td>192.886185</td>\n",
       "      <td>71.78689575</td>\n",
       "      <td>0.928164</td>\n",
       "      <td>10969</td>\n",
       "      <td>0.696101</td>\n",
       "      <td>Osmancik</td>\n",
       "    </tr>\n",
       "    <tr>\n",
       "      <th>3822</th>\n",
       "      <td>10151</td>\n",
       "      <td>420.899994</td>\n",
       "      <td>181.995575</td>\n",
       "      <td>72.09951019</td>\n",
       "      <td>0.918181</td>\n",
       "      <td>10407</td>\n",
       "      <td>0.521634</td>\n",
       "      <td>Osmancik</td>\n",
       "    </tr>\n",
       "    <tr>\n",
       "      <th>3823</th>\n",
       "      <td>10222</td>\n",
       "      <td>423.497009</td>\n",
       "      <td>182.800247</td>\n",
       "      <td>72.1242981</td>\n",
       "      <td>0.918873</td>\n",
       "      <td>10421</td>\n",
       "      <td>0.820385</td>\n",
       "      <td>Osmancik</td>\n",
       "    </tr>\n",
       "    <tr>\n",
       "      <th>3824</th>\n",
       "      <td>9216</td>\n",
       "      <td>384.342011</td>\n",
       "      <td>163.291626</td>\n",
       "      <td>72.26079559</td>\n",
       "      <td>0.896756</td>\n",
       "      <td>9352</td>\n",
       "      <td>0.624771</td>\n",
       "      <td>Osmancik</td>\n",
       "    </tr>\n",
       "    <tr>\n",
       "      <th>3825</th>\n",
       "      <td>11377</td>\n",
       "      <td>452.407989</td>\n",
       "      <td>201.306259</td>\n",
       "      <td>72.28141785</td>\n",
       "      <td>0.933314</td>\n",
       "      <td>11555</td>\n",
       "      <td>0.525545</td>\n",
       "      <td>Cammeo</td>\n",
       "    </tr>\n",
       "    <tr>\n",
       "      <th>3826</th>\n",
       "      <td>9598</td>\n",
       "      <td>397.000000</td>\n",
       "      <td>172.006790</td>\n",
       "      <td>72.28364563</td>\n",
       "      <td>0.907414</td>\n",
       "      <td>9766</td>\n",
       "      <td>0.796845</td>\n",
       "      <td>Osmancik</td>\n",
       "    </tr>\n",
       "  </tbody>\n",
       "</table>\n",
       "</div>"
      ],
      "text/plain": [
       "       Area   Perimeter  Major_Axis_Length Minor_Axis_Length  Eccentricity  \\\n",
       "3817   9751  412.597992         175.450638       71.44275665      0.913341   \n",
       "3818   9802  412.368988         176.165573       71.48280334      0.913975   \n",
       "3819   8501  371.024994         153.896255       71.51190948      0.885481   \n",
       "3820   8850  381.433990         159.251205       71.76094818      0.892718   \n",
       "3821  10713  443.403992         192.886185       71.78689575      0.928164   \n",
       "3822  10151  420.899994         181.995575       72.09951019      0.918181   \n",
       "3823  10222  423.497009         182.800247        72.1242981      0.918873   \n",
       "3824   9216  384.342011         163.291626       72.26079559      0.896756   \n",
       "3825  11377  452.407989         201.306259       72.28141785      0.933314   \n",
       "3826   9598  397.000000         172.006790       72.28364563      0.907414   \n",
       "\n",
       "     Convex_Area    Extent     Class  \n",
       "3817       10034  0.714359  Osmancik  \n",
       "3818        9991  0.566950  Osmancik  \n",
       "3819        8738  0.639846  Osmancik  \n",
       "3820        9063  0.572519  Osmancik  \n",
       "3821       10969  0.696101  Osmancik  \n",
       "3822       10407  0.521634  Osmancik  \n",
       "3823       10421  0.820385  Osmancik  \n",
       "3824        9352  0.624771  Osmancik  \n",
       "3825       11555  0.525545    Cammeo  \n",
       "3826        9766  0.796845  Osmancik  "
      ]
     },
     "execution_count": 6,
     "metadata": {},
     "output_type": "execute_result"
    }
   ],
   "source": [
    "df.tail(10)"
   ]
  },
  {
   "cell_type": "markdown",
   "id": "b40e7eda",
   "metadata": {},
   "source": [
    "### Number of rows:"
   ]
  },
  {
   "cell_type": "code",
   "execution_count": 7,
   "id": "5bd70128",
   "metadata": {},
   "outputs": [
    {
     "data": {
      "text/plain": [
       "3827"
      ]
     },
     "execution_count": 7,
     "metadata": {},
     "output_type": "execute_result"
    }
   ],
   "source": [
    "df.shape[0]"
   ]
  },
  {
   "cell_type": "markdown",
   "id": "d6567cca",
   "metadata": {},
   "source": [
    "### Number of columns:"
   ]
  },
  {
   "cell_type": "code",
   "execution_count": 8,
   "id": "e3728118",
   "metadata": {},
   "outputs": [
    {
     "data": {
      "text/plain": [
       "8"
      ]
     },
     "execution_count": 8,
     "metadata": {},
     "output_type": "execute_result"
    }
   ],
   "source": [
    "df.shape[1]"
   ]
  },
  {
   "cell_type": "markdown",
   "id": "09b27334",
   "metadata": {},
   "source": [
    "### min and max of numeric columns:"
   ]
  },
  {
   "cell_type": "code",
   "execution_count": 9,
   "id": "30d547aa",
   "metadata": {},
   "outputs": [
    {
     "data": {
      "text/plain": [
       "Perimeter            359.100006\n",
       "Major_Axis_Length    145.264465\n",
       "Eccentricity           0.777233\n",
       "Extent                 0.497413\n",
       "dtype: float64"
      ]
     },
     "execution_count": 9,
     "metadata": {},
     "output_type": "execute_result"
    }
   ],
   "source": [
    "df.min(numeric_only=True)"
   ]
  },
  {
   "cell_type": "code",
   "execution_count": 10,
   "id": "e35f073a",
   "metadata": {},
   "outputs": [
    {
     "data": {
      "text/plain": [
       "Perimeter            548.445984\n",
       "Major_Axis_Length    239.010498\n",
       "Eccentricity           0.948007\n",
       "Extent                 0.861050\n",
       "dtype: float64"
      ]
     },
     "execution_count": 10,
     "metadata": {},
     "output_type": "execute_result"
    }
   ],
   "source": [
    "df.max(numeric_only=True)"
   ]
  },
  {
   "cell_type": "markdown",
   "id": "abde29d3",
   "metadata": {},
   "source": [
    "## Data cleaning:"
   ]
  },
  {
   "cell_type": "markdown",
   "id": "314f7ebb",
   "metadata": {},
   "source": [
    "### Number of NaN values in each column:"
   ]
  },
  {
   "cell_type": "code",
   "execution_count": 11,
   "id": "dda3b6dc",
   "metadata": {},
   "outputs": [
    {
     "data": {
      "text/plain": [
       "Area                 1\n",
       "Perimeter            0\n",
       "Major_Axis_Length    3\n",
       "Minor_Axis_Length    0\n",
       "Eccentricity         0\n",
       "Convex_Area          2\n",
       "Extent               1\n",
       "Class                0\n",
       "dtype: int64"
      ]
     },
     "execution_count": 11,
     "metadata": {},
     "output_type": "execute_result"
    }
   ],
   "source": [
    "df.isnull().sum()"
   ]
  },
  {
   "cell_type": "markdown",
   "id": "448c7fc3",
   "metadata": {},
   "source": [
    "### Replacing ??? with NaN value, so we can use df.dropna() to drop them."
   ]
  },
  {
   "cell_type": "code",
   "execution_count": 12,
   "id": "21622fb9",
   "metadata": {},
   "outputs": [],
   "source": [
    "df.replace(\"???\", np.NaN, inplace=True)\n",
    "df.dropna(inplace=True)"
   ]
  },
  {
   "cell_type": "code",
   "execution_count": 13,
   "id": "ae1c362e",
   "metadata": {},
   "outputs": [
    {
     "data": {
      "text/plain": [
       "Area                 0\n",
       "Perimeter            0\n",
       "Major_Axis_Length    0\n",
       "Minor_Axis_Length    0\n",
       "Eccentricity         0\n",
       "Convex_Area          0\n",
       "Extent               0\n",
       "Class                0\n",
       "dtype: int64"
      ]
     },
     "execution_count": 13,
     "metadata": {},
     "output_type": "execute_result"
    }
   ],
   "source": [
    "df.isnull().sum()"
   ]
  },
  {
   "cell_type": "markdown",
   "id": "aedc2565",
   "metadata": {},
   "source": [
    "### -> as you can see, there are no more NaN values."
   ]
  },
  {
   "cell_type": "markdown",
   "id": "ef9740df",
   "metadata": {},
   "source": [
    "### Number of duplicates:"
   ]
  },
  {
   "cell_type": "code",
   "execution_count": 14,
   "id": "bd9d203e",
   "metadata": {},
   "outputs": [
    {
     "data": {
      "text/plain": [
       "16"
      ]
     },
     "execution_count": 14,
     "metadata": {},
     "output_type": "execute_result"
    }
   ],
   "source": [
    "df.duplicated().sum()"
   ]
  },
  {
   "cell_type": "markdown",
   "id": "7ddb6139",
   "metadata": {},
   "source": [
    "### Drop duplicates:"
   ]
  },
  {
   "cell_type": "code",
   "execution_count": 15,
   "id": "1fc8d138",
   "metadata": {},
   "outputs": [],
   "source": [
    "df.drop_duplicates(inplace=True)"
   ]
  },
  {
   "cell_type": "code",
   "execution_count": 16,
   "id": "81bce00f",
   "metadata": {},
   "outputs": [
    {
     "data": {
      "text/plain": [
       "0"
      ]
     },
     "execution_count": 16,
     "metadata": {},
     "output_type": "execute_result"
    }
   ],
   "source": [
    "df.duplicated().sum()"
   ]
  },
  {
   "cell_type": "markdown",
   "id": "126a6322",
   "metadata": {},
   "source": [
    "### -> as you can see, there are no more duplicates."
   ]
  },
  {
   "cell_type": "markdown",
   "id": "d1392578",
   "metadata": {},
   "source": [
    "### Reset indices"
   ]
  },
  {
   "cell_type": "code",
   "execution_count": 17,
   "id": "408706d7",
   "metadata": {},
   "outputs": [],
   "source": [
    "df.reset_index(drop=True, inplace=True)"
   ]
  },
  {
   "cell_type": "markdown",
   "id": "487ace2f",
   "metadata": {},
   "source": [
    "### Columns' types"
   ]
  },
  {
   "cell_type": "code",
   "execution_count": 18,
   "id": "996431b6",
   "metadata": {},
   "outputs": [
    {
     "data": {
      "text/plain": [
       "Area                  object\n",
       "Perimeter            float64\n",
       "Major_Axis_Length    float64\n",
       "Minor_Axis_Length     object\n",
       "Eccentricity         float64\n",
       "Convex_Area           object\n",
       "Extent               float64\n",
       "Class                 object\n",
       "dtype: object"
      ]
     },
     "execution_count": 18,
     "metadata": {},
     "output_type": "execute_result"
    }
   ],
   "source": [
    "df.dtypes"
   ]
  },
  {
   "cell_type": "markdown",
   "id": "75547f7b",
   "metadata": {},
   "source": [
    "### Now we can change the columns' types:"
   ]
  },
  {
   "cell_type": "code",
   "execution_count": 19,
   "id": "b0f170cb",
   "metadata": {},
   "outputs": [],
   "source": [
    "df[\"Area\"] = df[\"Area\"].astype(\"int64\")\n",
    "df[\"Minor_Axis_Length\"] = df[\"Minor_Axis_Length\"].astype(\"float64\")\n",
    "df[\"Convex_Area\"] = df[\"Convex_Area\"].astype(\"float64\")"
   ]
  },
  {
   "cell_type": "code",
   "execution_count": 20,
   "id": "2677709c",
   "metadata": {},
   "outputs": [
    {
     "data": {
      "text/plain": [
       "Area                   int64\n",
       "Perimeter            float64\n",
       "Major_Axis_Length    float64\n",
       "Minor_Axis_Length    float64\n",
       "Eccentricity         float64\n",
       "Convex_Area          float64\n",
       "Extent               float64\n",
       "Class                 object\n",
       "dtype: object"
      ]
     },
     "execution_count": 20,
     "metadata": {},
     "output_type": "execute_result"
    }
   ],
   "source": [
    "df.dtypes"
   ]
  },
  {
   "cell_type": "markdown",
   "id": "4b588f92",
   "metadata": {},
   "source": [
    "### -> as you can see, all the columns (except class) are numeric now."
   ]
  },
  {
   "cell_type": "code",
   "execution_count": 21,
   "id": "f4ea821d",
   "metadata": {},
   "outputs": [
    {
     "data": {
      "text/plain": [
       "Area                 12672.520789\n",
       "Perimeter              454.333554\n",
       "Major_Axis_Length      188.818005\n",
       "Minor_Axis_Length       86.328101\n",
       "Eccentricity             0.886885\n",
       "Convex_Area          12957.439474\n",
       "Extent                   0.661945\n",
       "dtype: float64"
      ]
     },
     "execution_count": 21,
     "metadata": {},
     "output_type": "execute_result"
    }
   ],
   "source": [
    "df.mean(numeric_only=True)"
   ]
  },
  {
   "cell_type": "code",
   "execution_count": 22,
   "id": "b24f6e6b",
   "metadata": {},
   "outputs": [
    {
     "data": {
      "text/plain": [
       "Area                 1731.227144\n",
       "Perimeter              35.582385\n",
       "Major_Axis_Length      17.445782\n",
       "Minor_Axis_Length       5.720103\n",
       "Eccentricity            0.020797\n",
       "Convex_Area          1775.793357\n",
       "Extent                  0.077269\n",
       "dtype: float64"
      ]
     },
     "execution_count": 22,
     "metadata": {},
     "output_type": "execute_result"
    }
   ],
   "source": [
    "df.std(numeric_only=True)"
   ]
  },
  {
   "cell_type": "markdown",
   "id": "61237001",
   "metadata": {},
   "source": [
    "## Data Normalization"
   ]
  },
  {
   "cell_type": "code",
   "execution_count": 84,
   "id": "81d638b5",
   "metadata": {},
   "outputs": [],
   "source": [
    "mean = df.mean(numeric_only=True)\n",
    "std = df.std(numeric_only=True)"
   ]
  },
  {
   "cell_type": "markdown",
   "id": "e1c369da",
   "metadata": {},
   "source": [
    "### Doing normalization on numeric columns of df:"
   ]
  },
  {
   "cell_type": "code",
   "execution_count": 85,
   "id": "5adbfcbd",
   "metadata": {},
   "outputs": [],
   "source": [
    "numeric_columns = df.select_dtypes(include='number')"
   ]
  },
  {
   "cell_type": "code",
   "execution_count": 86,
   "id": "6ea8dc15",
   "metadata": {},
   "outputs": [],
   "source": [
    "df.loc[:, numeric_columns.columns] = (numeric_columns - mean) / std + np.finfo(np.float32).eps"
   ]
  },
  {
   "cell_type": "code",
   "execution_count": 87,
   "id": "30b59609",
   "metadata": {},
   "outputs": [
    {
     "data": {
      "text/plain": [
       "Area                 1.0\n",
       "Perimeter            1.0\n",
       "Major_Axis_Length    1.0\n",
       "Minor_Axis_Length    1.0\n",
       "Eccentricity         1.0\n",
       "Convex_Area          1.0\n",
       "Extent               1.0\n",
       "dtype: float64"
      ]
     },
     "execution_count": 87,
     "metadata": {},
     "output_type": "execute_result"
    }
   ],
   "source": [
    "df.std(numeric_only=True)"
   ]
  },
  {
   "cell_type": "code",
   "execution_count": 88,
   "id": "108fb277",
   "metadata": {},
   "outputs": [
    {
     "data": {
      "text/plain": [
       "Area                 1.192093e-07\n",
       "Perimeter            1.192093e-07\n",
       "Major_Axis_Length    1.192093e-07\n",
       "Minor_Axis_Length    1.192093e-07\n",
       "Eccentricity         1.192093e-07\n",
       "Convex_Area          1.192093e-07\n",
       "Extent               1.192093e-07\n",
       "dtype: float64"
      ]
     },
     "execution_count": 88,
     "metadata": {},
     "output_type": "execute_result"
    }
   ],
   "source": [
    "df.mean(numeric_only=True)"
   ]
  },
  {
   "cell_type": "markdown",
   "id": "185ee704",
   "metadata": {},
   "source": [
    "### -> as you can see, the data is normalized."
   ]
  },
  {
   "cell_type": "markdown",
   "id": "607e6752",
   "metadata": {},
   "source": [
    "# Processing"
   ]
  },
  {
   "cell_type": "markdown",
   "id": "f5bac765",
   "metadata": {},
   "source": [
    "### Getting input:"
   ]
  },
  {
   "cell_type": "code",
   "execution_count": 89,
   "id": "f828fab2",
   "metadata": {},
   "outputs": [
    {
     "name": "stdout",
     "output_type": "stream",
     "text": [
      "enter value: 1\n",
      "enter value: 1\n",
      "enter value: 1\n",
      "enter value: 1\n",
      "enter value: 1\n",
      "enter value: 1\n",
      "enter value: 1\n"
     ]
    }
   ],
   "source": [
    "new_data = []\n",
    "for i in range(len(numeric_columns.columns)):\n",
    "    val = float(input(\"enter value: \"))\n",
    "    new_data.append(val)"
   ]
  },
  {
   "cell_type": "markdown",
   "id": "089bb67e",
   "metadata": {},
   "source": [
    "### Normalizing new data:"
   ]
  },
  {
   "cell_type": "code",
   "execution_count": 90,
   "id": "e05fe4bb",
   "metadata": {},
   "outputs": [],
   "source": [
    "new_data -= mean\n",
    "new_data /= std + np.finfo(np.float32).eps"
   ]
  },
  {
   "cell_type": "code",
   "execution_count": 91,
   "id": "26501cb7",
   "metadata": {},
   "outputs": [
    {
     "data": {
      "text/plain": [
       "Area                 1.398072\n",
       "Perimeter            1.000000\n",
       "Major_Axis_Length    1.000000\n",
       "Minor_Axis_Length    1.000000\n",
       "Eccentricity         1.000000\n",
       "Convex_Area          1.000000\n",
       "Extent               1.000000\n",
       "dtype: float64"
      ]
     },
     "execution_count": 91,
     "metadata": {},
     "output_type": "execute_result"
    }
   ],
   "source": [
    "new_data"
   ]
  },
  {
   "cell_type": "markdown",
   "id": "5b4d4167",
   "metadata": {},
   "source": [
    "### Calculating Euclidean distance between new data and dataframe's rows:"
   ]
  },
  {
   "cell_type": "code",
   "execution_count": 92,
   "id": "a11c6276",
   "metadata": {},
   "outputs": [],
   "source": [
    "rows = df.loc[:, numeric_columns.columns].to_numpy()\n",
    "distance = np.linalg.norm(rows - new_data.to_numpy(), axis=1)"
   ]
  },
  {
   "cell_type": "markdown",
   "id": "9ca74cb0",
   "metadata": {},
   "source": [
    "## knn"
   ]
  },
  {
   "cell_type": "markdown",
   "id": "c199210f",
   "metadata": {},
   "source": [
    "### Finding k nearest neighbors"
   ]
  },
  {
   "cell_type": "code",
   "execution_count": 96,
   "id": "428ca172",
   "metadata": {},
   "outputs": [
    {
     "name": "stdout",
     "output_type": "stream",
     "text": [
      "\n",
      " This Rice is: \n",
      " Cammeo\n"
     ]
    }
   ],
   "source": [
    "k = 61\n",
    "df[\"distance\"] = pd.Series(distance)\n",
    "df = df.sort_values(\"distance\").head(k)\n",
    "df.drop(columns=[\"distance\"], inplace=True)\n",
    "print(\"\\n This Rice is: \\n\", df.iloc[:, -1].mode()[0])"
   ]
  }
 ],
 "metadata": {
  "kernelspec": {
   "display_name": "Python 3 (ipykernel)",
   "language": "python",
   "name": "python3"
  },
  "language_info": {
   "codemirror_mode": {
    "name": "ipython",
    "version": 3
   },
   "file_extension": ".py",
   "mimetype": "text/x-python",
   "name": "python",
   "nbconvert_exporter": "python",
   "pygments_lexer": "ipython3",
   "version": "3.9.13"
  }
 },
 "nbformat": 4,
 "nbformat_minor": 5
}
